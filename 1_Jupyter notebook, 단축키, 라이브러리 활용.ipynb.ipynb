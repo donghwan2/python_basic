{
 "cells": [
  {
   "cell_type": "markdown",
   "id": "edbc25c4",
   "metadata": {},
   "source": [
    "# Jupyter Notebook 활용 및 Python 분석 환경 설정\n",
    "\n",
    "### 주요 내용\n",
    "\n",
    "1. Jupyter notebook의 주요 기능 및 단축키 등 설명\n",
    "2. pip를 활용한 라이브러리 설치 및 import를 활용한 라이브러리 불러오기\n",
    "\n",
    "<br>\n",
    "\n",
    "### 목표 \n",
    "1. Jupyter Notebook을 활용해서 Python 코드를 작성하고 실행할 수 있다.\n",
    "2. 라이브러리(library) 활용 목적과 절차를 이해한다.\n",
    "\n",
    "\n",
    "<br>\n",
    "<hr>\n",
    "<br>"
   ]
  },
  {
   "cell_type": "markdown",
   "id": "efd228f4",
   "metadata": {},
   "source": [
    "## 1. Jupyter Notebook 사용법, 기능 및 단축키 소개  \n",
    "\n",
    "가장 먼저 jupyter notebook의 사용법을 살펴보겠습니다.  \n",
    "\n",
    "jupyter notebook은 여러 cell을 수직적으로 결합해서 문서를 만들거나 분석을 수행합니다. 상단 메뉴바와 아이콘을 활용하여 cell을 추가, 제거, 이동, 복사 할 수 있고 명령어를 실행하고 결과를 확인할 수 있습니다. 이 과정에서 주로 활용되는 cell과 관련된 기본적인 단축키를 알아두면 편합니다.  \n",
    "\n",
    "\n",
    "* 셀 외곽 클릭(파란색) : 명령 모드(cell의 추가, 복사, 삭제 등), \"ESC\"\n",
    "  - `H` : 단축키 목록 팝업\n",
    "  - `A` : 위에 cell 추가 \n",
    "  - `B` : 아래에 cell 추가\n",
    "  - `위/아래 화살표` : cell 이동\n",
    "  - `D, D` : cell 삭제\n",
    "  - `z` : 삭제된 셀 되돌리기\n",
    "  - `M` : cell을 Markdown(문서 작성) 형식으로 변경\n",
    "  - `Y` : cell을 Code(명령어 작성) 형식으로 변경\n",
    "  - `S`, `Ctrl + S` : 저장\n",
    "  - `ctrl(mac_command) + shift + - ` : 셀 나누기\n",
    "  - `shift + m` : 셀 합치기\n",
    "    \n",
    "* 셀 내부 클릭(초록색) : 코드 입력 모드(각 cell 안에서 명령어 등 입력), \"ENTER\"\n",
    "  - `Ctrl + /` : 주석처리/해제\n",
    "\n",
    "* cell 실행 \n",
    "  - `Shift + Enter` : 실행하고 다음 cell로 이동\n",
    "  - `Ctrl + Enter` : 실행\n",
    "  \n",
    "\n",
    "<br>\n",
    "\n",
    "\n",
    "\n"
   ]
  },
  {
   "cell_type": "code",
   "execution_count": null,
   "id": "ad02eaa0",
   "metadata": {},
   "outputs": [],
   "source": [
    "# \"#\"을 붙여서 주석(comment)을 달 수 있습니다."
   ]
  },
  {
   "cell_type": "code",
   "execution_count": 38,
   "id": "b0ea9ede",
   "metadata": {},
   "outputs": [
    {
     "data": {
      "text/plain": [
       "2"
      ]
     },
     "execution_count": 38,
     "metadata": {},
     "output_type": "execute_result"
    }
   ],
   "source": [
    "# 이 cell에 간단한 사칙 연산을 입력하고 실행해 봅시다.\n",
    "1+1"
   ]
  },
  {
   "cell_type": "code",
   "execution_count": null,
   "id": "351fd67c",
   "metadata": {},
   "outputs": [],
   "source": [
    "# A"
   ]
  },
  {
   "cell_type": "code",
   "execution_count": null,
   "id": "0303c3af",
   "metadata": {},
   "outputs": [],
   "source": [
    "# B"
   ]
  },
  {
   "cell_type": "code",
   "execution_count": null,
   "id": "3cf8877f",
   "metadata": {},
   "outputs": [],
   "source": [
    "# DD(셀 삭제) 후 z로 되돌리기"
   ]
  },
  {
   "cell_type": "markdown",
   "id": "90ac77b8",
   "metadata": {},
   "source": [
    "\n",
    "<br>\n",
    "<hr>\n",
    "<br>\n",
    "\n",
    "## 2. pip를 활용한 Library 설치\n",
    "\n",
    "Python을 활용해 데이터를 분석하기 위해서는 pandas와 같은 라이브러리 설치가 필수(pandas는 이미 설치되어 있음)\n",
    "<span style='color:blue;font-weight:bold'>pip</span> 명령어를 활용해서 라이브러리를 설치 가능  \n",
    "jupyter notebook 안에서 shell command를 실행하기 위해서 <span style='color:purple;font-weight:bold'>!</span>를 앞에 붙임    \n",
    "\n",
    "> 라이브러리를 설치하기 위해서는 외부망 접속이 가능해야하고, 외부망에서 소스 파일을 다운받아 압축을 풀기 위해서는 특정 폴더에 대한 권한도 필요합니다. "
   ]
  },
  {
   "cell_type": "code",
   "execution_count": 3,
   "id": "e80748ed",
   "metadata": {},
   "outputs": [
    {
     "name": "stdout",
     "output_type": "stream",
     "text": [
      "Requirement already satisfied: numpy in /Users/aiden/opt/anaconda3/lib/python3.8/site-packages (1.23.0)\n",
      "Requirement already satisfied: pandas in /Users/aiden/opt/anaconda3/lib/python3.8/site-packages (1.5.3)\n",
      "Requirement already satisfied: matplotlib in /Users/aiden/opt/anaconda3/lib/python3.8/site-packages (3.7.1)\n",
      "Requirement already satisfied: seaborn in /Users/aiden/opt/anaconda3/lib/python3.8/site-packages (0.11.1)\n",
      "Requirement already satisfied: plotly in /Users/aiden/opt/anaconda3/lib/python3.8/site-packages (5.3.1)\n",
      "Requirement already satisfied: openpyxl in /Users/aiden/opt/anaconda3/lib/python3.8/site-packages (3.0.7)\n",
      "Requirement already satisfied: scipy in /Users/aiden/opt/anaconda3/lib/python3.8/site-packages (1.10.1)\n",
      "Requirement already satisfied: statsmodels in /Users/aiden/opt/anaconda3/lib/python3.8/site-packages (0.13.5)\n",
      "Requirement already satisfied: sklearn in /Users/aiden/opt/anaconda3/lib/python3.8/site-packages (0.0.post1)\n",
      "Requirement already satisfied: python-dateutil>=2.8.1 in /Users/aiden/opt/anaconda3/lib/python3.8/site-packages (from pandas) (2.8.1)\n",
      "Requirement already satisfied: pytz>=2020.1 in /Users/aiden/opt/anaconda3/lib/python3.8/site-packages (from pandas) (2021.1)\n",
      "Requirement already satisfied: cycler>=0.10 in /Users/aiden/opt/anaconda3/lib/python3.8/site-packages (from matplotlib) (0.10.0)\n",
      "Requirement already satisfied: pyparsing>=2.3.1 in /Users/aiden/opt/anaconda3/lib/python3.8/site-packages (from matplotlib) (2.4.7)\n",
      "Requirement already satisfied: pillow>=6.2.0 in /Users/aiden/opt/anaconda3/lib/python3.8/site-packages (from matplotlib) (8.2.0)\n",
      "Requirement already satisfied: importlib-resources>=3.2.0 in /Users/aiden/opt/anaconda3/lib/python3.8/site-packages (from matplotlib) (5.6.0)\n",
      "Requirement already satisfied: packaging>=20.0 in /Users/aiden/opt/anaconda3/lib/python3.8/site-packages (from matplotlib) (23.0)\n",
      "Requirement already satisfied: kiwisolver>=1.0.1 in /Users/aiden/opt/anaconda3/lib/python3.8/site-packages (from matplotlib) (1.3.1)\n",
      "Requirement already satisfied: contourpy>=1.0.1 in /Users/aiden/opt/anaconda3/lib/python3.8/site-packages (from matplotlib) (1.0.7)\n",
      "Requirement already satisfied: fonttools>=4.22.0 in /Users/aiden/opt/anaconda3/lib/python3.8/site-packages (from matplotlib) (4.39.2)\n",
      "Requirement already satisfied: tenacity>=6.2.0 in /Users/aiden/opt/anaconda3/lib/python3.8/site-packages (from plotly) (8.0.1)\n",
      "Requirement already satisfied: six in /Users/aiden/opt/anaconda3/lib/python3.8/site-packages (from plotly) (1.15.0)\n",
      "Requirement already satisfied: et-xmlfile in /Users/aiden/opt/anaconda3/lib/python3.8/site-packages (from openpyxl) (1.0.1)\n",
      "Requirement already satisfied: patsy>=0.5.2 in /Users/aiden/opt/anaconda3/lib/python3.8/site-packages (from statsmodels) (0.5.3)\n",
      "Requirement already satisfied: zipp>=3.1.0 in /Users/aiden/opt/anaconda3/lib/python3.8/site-packages (from importlib-resources>=3.2.0->matplotlib) (3.4.1)\n"
     ]
    }
   ],
   "source": [
    "!pip install numpy pandas matplotlib seaborn plotly openpyxl scipy statsmodels sklearn "
   ]
  },
  {
   "cell_type": "markdown",
   "id": "8d007092",
   "metadata": {},
   "source": [
    "<br>\n",
    "<hr>\n",
    "<br>\n",
    "\n",
    "## 3. Library 활용 예제\n",
    "\n",
    "*import*를 활용해서 특정 라이브러리를 불러오기  \n",
    "이후 해당 라이브러리에 포함된 객체나 기능, 함수 등을 활용 가능"
   ]
  },
  {
   "cell_type": "code",
   "execution_count": 4,
   "id": "4c135ae6",
   "metadata": {},
   "outputs": [],
   "source": [
    "import os"
   ]
  },
  {
   "cell_type": "markdown",
   "id": "b7571610",
   "metadata": {},
   "source": [
    "> 아래의 cell에 *os.* 을 입력하고 **Tab**키를 누릅니다. 자동 완성(Auto-completion) 기능을 활용해서 함수 *getcwd()* 를 찾고 **Enter**키를 눌러서 선택합니다.  \n",
    "소괄호를 열고 **Shift+Tab**을 눌러 함수의 도움말을 확인할 수 있습니다.  "
   ]
  },
  {
   "cell_type": "markdown",
   "id": "18429deb",
   "metadata": {},
   "source": [
    "### [실습] \n",
    "위와 같은 방법으로 **os** 라이브러리의 함수 *listdir()* 과 *mkdir()* 을 선택하고 자유롭게 실행하기"
   ]
  },
  {
   "cell_type": "code",
   "execution_count": 39,
   "id": "ffaced60",
   "metadata": {},
   "outputs": [],
   "source": [
    "os.listdir()"
   ]
  },
  {
   "cell_type": "code",
   "execution_count": 40,
   "id": "952524a1",
   "metadata": {},
   "outputs": [],
   "source": [
    "%pwd"
   ]
  },
  {
   "cell_type": "code",
   "execution_count": 12,
   "id": "afddac01",
   "metadata": {},
   "outputs": [],
   "source": [
    "# 현재 경로에 tmp 폴더 생성하기\n",
    "path = './tmp'\n",
    "os.mkdir(path)"
   ]
  },
  {
   "cell_type": "markdown",
   "id": "24065efd",
   "metadata": {},
   "source": [
    "> 물론 라이브러리를 불러오지 않아도 활용가능한 여러가지 함수와 명령어들도 있습니다. 그중 **%** 로 시작하는 매직 명령어(magic commands)는 **os** 라이브러리의 함수를 대신하기도 합니다."
   ]
  },
  {
   "cell_type": "code",
   "execution_count": null,
   "id": "3afce78c",
   "metadata": {},
   "outputs": [],
   "source": [
    "# 현재 작업경로 출력\n",
    "%pwd"
   ]
  },
  {
   "cell_type": "code",
   "execution_count": 21,
   "id": "8cb19ed0",
   "metadata": {},
   "outputs": [],
   "source": [
    "# 폴더 생성\n",
    "%mkdir temp"
   ]
  },
  {
   "cell_type": "markdown",
   "id": "a2e948cf",
   "metadata": {},
   "source": [
    "이렇게 각 라이브러리마다 역할이 있고, 필요에 따라 *import*로 불러와 활용합니다.  \n",
    "특히 **os** 라이브러리는 작업 폴더(working directory)를 확인하거나 바꾸고, 폴더를 생성하는 등 일반적인 파일작업 등이 가능하기 때문에 개발이나 업무자동화에서 필수적으로 활용됩니다."
   ]
  },
  {
   "cell_type": "markdown",
   "id": "69c32fd2",
   "metadata": {},
   "source": [
    "<br>\n",
    "\n",
    "### [실습] \n",
    "\n",
    "1. *import*로 **random** 라이브러리 불러오기\n",
    "2. **random** 라이브러리의 *randint()* 함수를 활용해서 1부터 100까지 숫자 중에서 랜덤으로 하나 선택하기 \n",
    "3. **datetime** 라이브러리를 불러와서 *datetime.datetime.now()* 로 현재 시간 확인하기\n"
   ]
  },
  {
   "cell_type": "code",
   "execution_count": 22,
   "id": "e8cc2038",
   "metadata": {},
   "outputs": [],
   "source": [
    "import random"
   ]
  },
  {
   "cell_type": "code",
   "execution_count": 65,
   "id": "2e97f4f3",
   "metadata": {},
   "outputs": [
    {
     "data": {
      "text/plain": [
       "20"
      ]
     },
     "execution_count": 65,
     "metadata": {},
     "output_type": "execute_result"
    }
   ],
   "source": [
    "random.randint(1, 46)"
   ]
  },
  {
   "cell_type": "code",
   "execution_count": 66,
   "id": "cff9a62d",
   "metadata": {},
   "outputs": [
    {
     "data": {
      "text/plain": [
       "0.1524020660400892"
      ]
     },
     "execution_count": 66,
     "metadata": {},
     "output_type": "execute_result"
    }
   ],
   "source": [
    "random.random()"
   ]
  },
  {
   "cell_type": "code",
   "execution_count": 67,
   "id": "2b1cdb66",
   "metadata": {},
   "outputs": [
    {
     "data": {
      "text/plain": [
       "3"
      ]
     },
     "execution_count": 67,
     "metadata": {},
     "output_type": "execute_result"
    }
   ],
   "source": [
    "random.choice([1, 2, 3, 4, 5])"
   ]
  },
  {
   "cell_type": "code",
   "execution_count": 74,
   "id": "7fcbf644",
   "metadata": {},
   "outputs": [
    {
     "name": "stdout",
     "output_type": "stream",
     "text": [
      "2023-04-11 07:54:28.704276\n"
     ]
    }
   ],
   "source": [
    "import datetime\n",
    "print(datetime.datetime.now())"
   ]
  },
  {
   "cell_type": "markdown",
   "id": "f22f05f8",
   "metadata": {},
   "source": [
    "<br>\n",
    "\n",
    "### 3.1. from과 as를 활용한 라이브러리 불러오기 \n",
    "\n",
    "라이브러리는 몇개의 모듈로 구성되고, 각 모듈 안에 함수 등이 포함되어 있음  \n",
    "*import*로 를 활용해서 라이브러리를 불러올 때 *as*를 활용해서 별명을 지정 가능  \n",
    "*from*을 활용해서 라이브러리 내 특정 모듈을 지정해서 불러오는 것도 가능 \n"
   ]
  },
  {
   "cell_type": "code",
   "execution_count": 34,
   "id": "20f059ec",
   "metadata": {},
   "outputs": [],
   "source": [
    "# import를 활용한 라이브러리 호출\n",
    "import pandas\n",
    "# pandas.read_csv()"
   ]
  },
  {
   "cell_type": "code",
   "execution_count": 35,
   "id": "d65a846b",
   "metadata": {},
   "outputs": [],
   "source": [
    "# as를 활용한 별명 지정 \n",
    "import pandas as pd\n",
    "# pd.read_csv()"
   ]
  },
  {
   "cell_type": "code",
   "execution_count": 36,
   "id": "70bf9d65",
   "metadata": {},
   "outputs": [],
   "source": [
    "# 라이브러리 내 특정 함수 불러오기\n",
    "from pandas import read_csv\n",
    "# read_csv()"
   ]
  },
  {
   "cell_type": "code",
   "execution_count": 37,
   "id": "8a86d794",
   "metadata": {},
   "outputs": [],
   "source": [
    "# 라이브러리 내 모든 함수 불러오기\n",
    "from pandas import * \n",
    "# read_csv()\n",
    "# read_excel()"
   ]
  },
  {
   "cell_type": "markdown",
   "id": "200a702d",
   "metadata": {},
   "source": [
    "#### End of script"
   ]
  }
 ],
 "metadata": {
  "kernelspec": {
   "display_name": "Python 3",
   "language": "python",
   "name": "python3"
  },
  "language_info": {
   "codemirror_mode": {
    "name": "ipython",
    "version": 3
   },
   "file_extension": ".py",
   "mimetype": "text/x-python",
   "name": "python",
   "nbconvert_exporter": "python",
   "pygments_lexer": "ipython3",
   "version": "3.8.8"
  },
  "varInspector": {
   "cols": {
    "lenName": 16,
    "lenType": 16,
    "lenVar": 40
   },
   "kernels_config": {
    "python": {
     "delete_cmd_postfix": "",
     "delete_cmd_prefix": "del ",
     "library": "var_list.py",
     "varRefreshCmd": "print(var_dic_list())"
    },
    "r": {
     "delete_cmd_postfix": ") ",
     "delete_cmd_prefix": "rm(",
     "library": "var_list.r",
     "varRefreshCmd": "cat(var_dic_list()) "
    }
   },
   "types_to_exclude": [
    "module",
    "function",
    "builtin_function_or_method",
    "instance",
    "_Feature"
   ],
   "window_display": false
  }
 },
 "nbformat": 4,
 "nbformat_minor": 5
}
